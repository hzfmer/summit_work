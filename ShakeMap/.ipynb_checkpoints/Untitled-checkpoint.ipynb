{
 "cells": [
  {
   "cell_type": "code",
   "execution_count": 5,
   "metadata": {},
   "outputs": [],
   "source": [
    "import numpy as np\n",
    "import pandas as pd\n",
    "import mysql.connector\n",
    "import sqlite3"
   ]
  },
  {
   "cell_type": "code",
   "execution_count": null,
   "metadata": {},
   "outputs": [],
   "source": [
    "conn = \n",
    "select R.Run_ID from CyberShake_Runs R, CyberShake_Sites S where S.CS_Short_Name=\"LADT\" and R.Site_ID=S.CS_Site_ID and R.ERF_ID=35    and R.SGT_Variation_ID=5 and R.Rup_Var_Scenario_ID=4 and R.Velocity_Model_ID=1 and (R.Max_Frequency=10.0 or R.Max_Frequency is null) and R.Status=\"Verified\";"
   ]
  }
 ],
 "metadata": {
  "kernelspec": {
   "display_name": "Python 3",
   "language": "python",
   "name": "python3"
  },
  "language_info": {
   "codemirror_mode": {
    "name": "ipython",
    "version": 3
   },
   "file_extension": ".py",
   "mimetype": "text/x-python",
   "name": "python",
   "nbconvert_exporter": "python",
   "pygments_lexer": "ipython3",
   "version": "3.7.6"
  }
 },
 "nbformat": 4,
 "nbformat_minor": 4
}
