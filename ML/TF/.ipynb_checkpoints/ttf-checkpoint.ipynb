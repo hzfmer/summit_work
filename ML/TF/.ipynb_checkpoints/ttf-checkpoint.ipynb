{
 "cells": [
  {
   "cell_type": "code",
   "execution_count": 142,
   "metadata": {},
   "outputs": [
    {
     "name": "stdout",
     "output_type": "stream",
     "text": [
      "The autoreload extension is already loaded. To reload it, use:\n",
      "  %reload_ext autoreload\n"
     ]
    }
   ],
   "source": [
    "import torch\n",
    "from torch import nn\n",
    "from torch import optim\n",
    "import numpy as np\n",
    "import matplotlib.pyplot as plt\n",
    "from pathlib import Path\n",
    "import os\n",
    "import bisect\n",
    "%load_ext autoreload\n",
    "%autoreload 2"
   ]
  },
  {
   "cell_type": "code",
   "execution_count": 99,
   "metadata": {},
   "outputs": [],
   "source": [
    "class TF:\n",
    "    \n",
    "    def __init__(self, vs_dir, tf_dir):\n",
    "        self.vs_dir = vs_dir\n",
    "        self.tf_dir = tf_dir\n",
    "        self.max_depth = 500 # 1575\n",
    "        self.step = 10  # avoid too many frequencies, using 1 for all freqs.\n",
    "        self.freq = np.linspace(0, 500, 8192)[::self.step]\n",
    "        self.load_data()\n",
    "        self.vs = {}\n",
    "        self.tf = {}\n",
    "        \n",
    "        \n",
    "    def load_data(self):\n",
    "        file_vs = os.listdir(self.vs_dir)\n",
    "        file_tf = os.listdir(self.tf_dir)\n",
    "        site_vs = [x.split('.')[0] for x in file_vs]\n",
    "        site_tf = [x.split('.')[0] for x in file_tf]\n",
    "        self.sites = list(set(site_vs) & set(site_tf))\n",
    "        print(f'There are {len(site_vs)} sites of profiles, '\n",
    "              f'{len(site_tf)} sites of TTFs, '\n",
    "              f'{len(self.sites)} sites in commnn.')\n",
    "        self.file_vs = [Path(self.vs_dir, x + '.dat') for x in self.sites]\n",
    "        self.file_tf = [Path(self.tf_dir, x + '.amp') for x in self.sites]\n",
    "    \n",
    "    def build_vs(self, data):\n",
    "        vs_out = np.zeros((self.max_depth, ))\n",
    "        n = len(data)\n",
    "        depth = data[:, 0]\n",
    "        for i in range(len(vs_out)):\n",
    "            idx = bisect.bisect_left(depth, i)\n",
    "            idx -= (idx == n)\n",
    "            vs_out[i] = data[idx, 1]\n",
    "        return vs_out\n",
    "\n",
    "    def read_vs(self):\n",
    "        # depth + vs\n",
    "        max_dp = 0\n",
    "        print(f'Site with larger depth than max_depth ({self.max_depth}): '\n",
    "                  f'showing last two layers')\n",
    "        for i, site in enumerate(self.sites):\n",
    "            data = np.genfromtxt(self.file_vs[i], skip_header=2, delimiter= ',',\n",
    "                             usecols=[2, 4], filling_values=self.max_depth)\n",
    "            self.vs[site] = self.build_vs(data).astype('float32')\n",
    "            self.tf[site] = np.genfromtxt(self.file_tf[i], usecols=[1])[::self.step].astype('float32')      \n",
    "            #if data[-2, 0] > self.max_depth:\n",
    "            #    print(data[-2:, :])\n",
    "            max_dp = max(max_dp, data[-2, 0])\n",
    "        print(max_dp)\n",
    "    "
   ]
  },
  {
   "cell_type": "code",
   "execution_count": 100,
   "metadata": {},
   "outputs": [
    {
     "name": "stdout",
     "output_type": "stream",
     "text": [
      "There are 664 sites of profiles, 643 sites of TTFs, 643 sites in commnn.\n",
      "Site with larger depth than max_depth (500): showing last two layers\n",
      "[[ 720. 1030.]\n",
      " [ 500. 3040.]]\n",
      "[[ 580. 1460.]\n",
      " [ 500. 1560.]]\n",
      "[[ 570. 1400.]\n",
      " [ 500. 1700.]]\n",
      "[[1150. 2120.]\n",
      " [ 500. 2120.]]\n",
      "[[ 720. 1500.]\n",
      " [ 500. 1200.]]\n",
      "[[ 900. 1280.]\n",
      " [ 500. 1840.]]\n",
      "[[ 700. 2450.]\n",
      " [ 500. 3260.]]\n",
      "[[1575. 1680.]\n",
      " [ 500. 1410.]]\n",
      "[[ 760. 1300.]\n",
      " [ 500. 1600.]]\n",
      "[[ 620.  750.]\n",
      " [ 500. 1080.]]\n",
      "[[ 625. 1290.]\n",
      " [ 500. 3060.]]\n",
      "1575.0\n"
     ]
    }
   ],
   "source": [
    "ttf = TF('sitedat', 'TF')\n",
    "ttf.read_vs()"
   ]
  },
  {
   "cell_type": "code",
   "execution_count": 138,
   "metadata": {},
   "outputs": [
    {
     "name": "stdout",
     "output_type": "stream",
     "text": [
      "(643, 500) (643, 820)\n",
      "(128, 500) <class 'numpy.ndarray'>\n"
     ]
    }
   ],
   "source": [
    "import sklearn\n",
    "from sklearn.model_selection import train_test_split\n",
    "vs_data = np.vstack(list(ttf.vs.values()))\n",
    "tf_data = np.vstack(list(ttf.tf.values()))\n",
    "print(vs_data.shape, tf_data.shape)\n",
    "X_train, X_test, y_train, y_test = train_test_split(vs_data, tf_data, test_size=0.8)\n",
    "print(X_train.shape, type(X_train))"
   ]
  },
  {
   "cell_type": "code",
   "execution_count": 143,
   "metadata": {},
   "outputs": [],
   "source": [
    "class Net(nn.Module):\n",
    "    def __init__(self, in_dim, out_dim):\n",
    "        super().__init__()\n",
    "        self.ann = nn.Sequential(\n",
    "            nn.Linear(in_dim, 256),\n",
    "            nn.BatchNorm1d(256),\n",
    "            nn.ReLU(True),\n",
    "            nn.Linear(256, 256),\n",
    "            nn.ReLU(True),\n",
    "            # nn.LeakyReLU(0.2, True),\n",
    "            nn.Linear(256, 256),\n",
    "            nn.ReLU(True),\n",
    "            nn.Linear(256, 256),\n",
    "            nn.ReLU(True),\n",
    "            nn.Linear(256, len(ttf.freq))\n",
    "        )\n",
    "\n",
    "    def forward(self, x):\n",
    "        out = self.ann(x)\n",
    "        return out\n",
    "\n",
    "num_epoches = 4\n",
    "learning_rate = 0.003\n",
    "\n",
    "model = Net(X_train.shape[-1], y_train.shape[-1]) \n",
    "\n",
    "criterion = nn.MSELoss()\n",
    "optimizer = optim.Adam(model.parameters(), lr=learning_rate)"
   ]
  },
  {
   "cell_type": "code",
   "execution_count": 157,
   "metadata": {},
   "outputs": [
    {
     "name": "stdout",
     "output_type": "stream",
     "text": [
      "epoch 1\n",
      "**********\n",
      "torch.Size([])\n",
      "tensor(4.2824, grad_fn=<MseLossBackward>)\n",
      "epoch 2\n",
      "**********\n",
      "torch.Size([])\n",
      "tensor(4.2278, grad_fn=<MseLossBackward>)\n",
      "epoch 3\n",
      "**********\n",
      "torch.Size([])\n",
      "tensor(4.1823, grad_fn=<MseLossBackward>)\n",
      "epoch 4\n",
      "**********\n",
      "torch.Size([])\n",
      "tensor(4.1337, grad_fn=<MseLossBackward>)\n"
     ]
    }
   ],
   "source": [
    "data_in = torch.from_numpy(X_train).float()\n",
    "data_out = torch.from_numpy(y_train).float()\n",
    "for epoch in range(num_epoches):\n",
    "    print('epoch {}'.format(epoch+1))\n",
    "    print('*'*10)\n",
    "    running_loss = 0.0\n",
    "    running_acc = 0.0\n",
    "    out = model(data_in)\n",
    "    loss = criterion(out, data_out)\n",
    "    print(loss.shape)\n",
    "    print(loss)\n",
    "    #running_loss += loss.data[0] * label.size(0)\n",
    "    # 向后传播\n",
    "    optimizer.zero_grad()\n",
    "    loss.backward()\n",
    "    optimizer.step()"
   ]
  },
  {
   "cell_type": "code",
   "execution_count": 160,
   "metadata": {},
   "outputs": [
    {
     "name": "stdout",
     "output_type": "stream",
     "text": [
      "(515, 820)\n"
     ]
    }
   ],
   "source": [
    "model.eval()\n",
    "predict = model(torch.Tensor(X_test))\n",
    "predict = predict.data.numpy()\n",
    "print(predict.shape)"
   ]
  },
  {
   "cell_type": "code",
   "execution_count": 164,
   "metadata": {},
   "outputs": [
    {
     "data": {
      "text/plain": [
       "[<matplotlib.lines.Line2D at 0x13ab47bd0>]"
      ]
     },
     "execution_count": 164,
     "metadata": {},
     "output_type": "execute_result"
    },
    {
     "data": {
      "image/png": "[encoded data removed]",
      "text/plain": [
       "<Figure size 432x288 with 1 Axes>"
      ]
     },
     "metadata": {
      "needs_background": "light"
     },
     "output_type": "display_data"
    }
   ],
   "source": [
    "plt.loglog(ttf.freq, y_test[0, :len(ttf.freq)])\n",
    "plt.loglog(ttf.freq, predict[0, :len(ttf.freq)])"
   ]
  },
  {
   "cell_type": "code",
   "execution_count": 133,
   "metadata": {},
   "outputs": [
    {
     "name": "stdout",
     "output_type": "stream",
     "text": [
      "torch.Size([128, 64, 32])\n",
      "torch.Size([128, 4096])\n",
      "torch.Size([128, 32])\n"
     ]
    }
   ],
   "source": [
    "\n",
    "linear_layer_2d = nn.Linear(in_features=64, out_features=32)\n",
    "# 1st dimension (128) = batch dimension, input 64 x 64\n",
    "input_2d = torch.randn(128, 64, 64)\n",
    "output_2d = linear_layer_2d(input_2d)\n",
    "print(output_2d.size())\n",
    "# torch.Size([128, 64, 32])\n",
    "\n",
    "# 1d input (2d flattened)\n",
    "linear_layer_1d = nn.Linear(in_features=4096, out_features=32)\n",
    "# input_1d size = [128, 4096]\n",
    "input_1d = torch.flatten(input_2d, start_dim=1)\n",
    "print(input_1d.size())\n",
    "output_1d = linear_layer_1d(input_1d)\n",
    "print(output_1d.size())"
   ]
  },
  {
   "cell_type": "code",
   "execution_count": 134,
   "metadata": {},
   "outputs": [
    {
     "name": "stdout",
     "output_type": "stream",
     "text": [
      "torch.Size([643, 32])\n"
     ]
    }
   ],
   "source": [
    "linear_layer_1d = nn.Linear(in_features=500, out_features=32)\n",
    "output_1d = linear_layer_1d(torch.from_numpy(x_data.astype('float32')))\n",
    "print(output_1d.size())"
   ]
  },
  {
   "cell_type": "code",
   "execution_count": null,
   "metadata": {},
   "outputs": [],
   "source": []
  }
 ],
 "metadata": {
  "kernelspec": {
   "display_name": "Python 3",
   "language": "python",
   "name": "python3"
  },
  "language_info": {
   "codemirror_mode": {
    "name": "ipython",
    "version": 3
   },
   "file_extension": ".py",
   "mimetype": "text/x-python",
   "name": "python",
   "nbconvert_exporter": "python",
   "pygments_lexer": "ipython3",
   "version": "3.7.7"
  }
 },
 "nbformat": 4,
 "nbformat_minor": 4
}
