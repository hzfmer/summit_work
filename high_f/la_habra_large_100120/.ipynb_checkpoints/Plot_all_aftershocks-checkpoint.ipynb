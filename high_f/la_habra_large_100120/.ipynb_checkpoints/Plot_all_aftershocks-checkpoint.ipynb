{
 "cells": [
  {
   "cell_type": "code",
   "execution_count": 1,
   "metadata": {},
   "outputs": [],
   "source": [
    "import pandas as pd\n",
    "import numpy as np\n",
    "import matplotlib.pyplot as plt"
   ]
  },
  {
   "cell_type": "code",
   "execution_count": 2,
   "metadata": {},
   "outputs": [],
   "source": [
    "from ipywidgets import HTML\n",
    "from ipyleaflet import Polygon, Circle, Marker, MarkerCluster, AwesomeIcon, Popup\n",
    "from ipyleaflet import Map, MeasureControl, basemaps, ImageOverlay\n",
    "from ipyleaflet import MeasureControl, ScaleControl, SearchControl\n",
    "from ipywidgets import Layout"
   ]
  },
  {
   "cell_type": "code",
   "execution_count": 3,
   "metadata": {},
   "outputs": [
    {
     "name": "stdout",
     "output_type": "stream",
     "text": [
      "  site_name         lon        lat  idx_x  idx_y   vs30   elevation      rhyp\n",
      "0   CE13880 -117.931099  33.908600   9833   4972  324.0   97.820633  1.124054\n",
      "1   CE13881 -117.955704  33.931499   9412   5037  353.0   86.594948  2.568284\n",
      "2     CIOLI -117.923721  33.945389   9575   5420  328.0  159.873169  3.085496\n",
      "3   CE13873 -117.896301  33.933102   9928   5490  423.0  117.233238  3.714412\n",
      "4     CIFUL -117.922508  33.871700  10234   4640  309.0   52.210217  5.300942\n"
     ]
    }
   ],
   "source": [
    "domain = np.genfromtxt('../cvm/borders_large.txt')\n",
    "domain = np.flip(domain, axis=1)\n",
    "domain = [tuple(d) for d in domain]\n",
    "\n",
    "sites = pd.read_csv(\"results/df_sites.csv\")\n",
    "print(sites.head())"
   ]
  },
  {
   "cell_type": "code",
   "execution_count": 5,
   "metadata": {},
   "outputs": [
    {
     "data": {
      "application/vnd.jupyter.widget-view+json": {
       "model_id": "f6fe753c04374ec1a572a8853f8af854",
       "version_major": 2,
       "version_minor": 0
      },
      "text/plain": [
       "Map(center=[34, -117.9], controls=(ZoomControl(options=['position', 'zoom_in_text', 'zoom_in_title', 'zoom_out…"
      ]
     },
     "metadata": {},
     "output_type": "display_data"
    }
   ],
   "source": [
    "clon = -117.9\n",
    "clat = 34\n",
    "src_lon = -117.932587 \n",
    "src_lat = 33.918633\n",
    "m = Map(basemap=basemaps.Stamen.Terrain, center=(clat, clon), zoom=8.5,layout=Layout(width='960px', height='720px'))\n",
    "\n",
    "polygon = Polygon(\n",
    "    locations = domain,\n",
    "    color = 'blue',\n",
    "    width = 0.1,\n",
    "    fill_color = 'blue',\n",
    "    fill_opacity = 0.05\n",
    ")\n",
    "\n",
    "epic = Marker(\n",
    "    location = (src_lat, src_lon),\n",
    "    draggable = False,\n",
    "    icon = AwesomeIcon(name='star', marker_color='red', icon_color='red')\n",
    ")\n",
    "popup = Popup(\n",
    "    location = (src_lat, src_lon),\n",
    "    child = HTML(value=f'({src_lon:.2f}, {src_lat:.2f})'),\n",
    "    close_buttion = False,\n",
    "    auto_close = False,\n",
    "    close_on_escape = False,\n",
    "    max_width=100, min_width=2\n",
    ")\n",
    "\n",
    "\n",
    "statmarkers=[]\n",
    "for idx, site in sites.iterrows():\n",
    "    c = Marker(location=(site['lat'], site['lon']),\n",
    "               title=f'{site[\"site_name\"]}: Rhypo={site[\"rhyp\"]:.2f} km,'\n",
    "                     f'Vs30={site[\"vs30\"]:.2f} m/s, Elev={site[\"elevation\"]:.2f}',\n",
    "               draggable=False)\n",
    "    statmarkers.append(c)\n",
    "\n",
    "# image = ImageOverlay(\n",
    "#     url = \"../cvm/test.png\",\n",
    "#     bounds = ((33.3, -119.2),(33.8, -118.5))\n",
    "# )\n",
    "# m.add_layer(image)\n",
    "\n",
    "\n",
    "m.add_layer(popup)\n",
    "m.add_layer(epic)\n",
    "m.add_layer(polygon)\n",
    "m.add_layer(MarkerCluster(markers=statmarkers))\n",
    "m"
   ]
  },
  {
   "cell_type": "code",
   "execution_count": 19,
   "metadata": {},
   "outputs": [
    {
     "data": {
      "application/vnd.jupyter.widget-view+json": {
       "model_id": "26dc6025217c45c995be4eec86150411",
       "version_major": 2,
       "version_minor": 0
      },
      "text/plain": [
       "Canvas(toolbar=Toolbar(toolitems=[('Home', 'Reset original view', 'home', 'home'), ('Back', 'Back to previous …"
      ]
     },
     "metadata": {},
     "output_type": "display_data"
    }
   ],
   "source": [
    "import pickle\n",
    "%matplotlib widget\n",
    "with open('results/syn_sites.pickle', 'rb') as fid:\n",
    "    syn_sites = pickle.load(fid)\n",
    "    \n",
    "nx, ny, nz = 19440, 14904, 184\n",
    "dh = 0.008\n",
    "srcidx = [9681, 5086, 283]\n",
    "\n",
    "    \n",
    "z200 = np.fromfile('z200.bin', dtype='float32').reshape(ny, nx)\n",
    "z500 = np.fromfile('z500.bin', dtype='float32').reshape(ny, nx)\n",
    "fig, ax = plt.subplots(dpi=100)\n",
    "stepx, stepy = 20, 20\n",
    "rx = np.arange(0, nx, stepx) * dh \n",
    "ry = np.arange(0, ny, stepy) * dh \n",
    "\n",
    "#im = ax.contourf(rx, ry, z200[::stepy, ::stepx], cmap='YlOrBr')\n",
    "im = ax.contourf(rx, ry, z200[::stepy, ::stepx], 3, cmap='YlOrBr')\n",
    "# ax.contour(rx, ry, z500[::stepy, ::stepx], [0, 10], cmap='gray_r',\n",
    "#            linestyles='dashed', linewidths=0.8)\n",
    "ax.contour(rx, ry, z500[::stepy, ::stepx], 3, cmap='twilight_shifted',\n",
    "           linewidths=0.6)\n",
    "coastline = np.genfromtxt('coastline.idx', dtype='int', usecols=[1,2])\n",
    "coastline = coastline[coastline[:, -1] >= 0, :]\n",
    "ax.plot(coastline[:, 0] * dh, coastline[:, 1] * dh, 'k--')\n",
    "cbar=plt.colorbar(im)\n",
    "cbar.set_ticks([0, 8, 16, 24])\n",
    "ax.scatter(srcidx[0] * dh, srcidx[1] * dh, 200, alpha=0.8, color='k', marker='*')\n",
    "for i, s in enumerate(syn_sites):   \n",
    "    ax.scatter(s[1] * dh, s[2] * dh, 15, color='cyan', marker='^')\n",
    "    ax.annotate(s[0], (s[1] * dh, s[2] * dh), xytext=(4, 0), textcoords='offset points',\n",
    "                   color='k', ha='left', va='center', fontsize='x-small', fontweight='light')\n"
   ]
  },
  {
   "cell_type": "code",
   "execution_count": 16,
   "metadata": {},
   "outputs": [
    {
     "data": {
      "text/html": [
       "<div>\n",
       "<style scoped>\n",
       "    .dataframe tbody tr th:only-of-type {\n",
       "        vertical-align: middle;\n",
       "    }\n",
       "\n",
       "    .dataframe tbody tr th {\n",
       "        vertical-align: top;\n",
       "    }\n",
       "\n",
       "    .dataframe thead th {\n",
       "        text-align: right;\n",
       "    }\n",
       "</style>\n",
       "<table border=\"1\" class=\"dataframe\">\n",
       "  <thead>\n",
       "    <tr style=\"text-align: right;\">\n",
       "      <th></th>\n",
       "      <th>lon</th>\n",
       "      <th>lat</th>\n",
       "      <th>idx_x</th>\n",
       "      <th>idx_y</th>\n",
       "      <th>vs30</th>\n",
       "      <th>elevation</th>\n",
       "      <th>rhyp</th>\n",
       "    </tr>\n",
       "  </thead>\n",
       "  <tbody>\n",
       "    <tr>\n",
       "      <th>count</th>\n",
       "      <td>259.000000</td>\n",
       "      <td>259.000000</td>\n",
       "      <td>259.000000</td>\n",
       "      <td>259.000000</td>\n",
       "      <td>259.000000</td>\n",
       "      <td>259.000000</td>\n",
       "      <td>259.000000</td>\n",
       "    </tr>\n",
       "    <tr>\n",
       "      <th>mean</th>\n",
       "      <td>-117.906172</td>\n",
       "      <td>33.967717</td>\n",
       "      <td>9530.795367</td>\n",
       "      <td>5793.849421</td>\n",
       "      <td>365.169884</td>\n",
       "      <td>236.166750</td>\n",
       "      <td>34.434289</td>\n",
       "    </tr>\n",
       "    <tr>\n",
       "      <th>std</th>\n",
       "      <td>0.362966</td>\n",
       "      <td>0.173317</td>\n",
       "      <td>3629.258464</td>\n",
       "      <td>3187.801987</td>\n",
       "      <td>90.052838</td>\n",
       "      <td>344.690541</td>\n",
       "      <td>18.370473</td>\n",
       "    </tr>\n",
       "    <tr>\n",
       "      <th>min</th>\n",
       "      <td>-118.649712</td>\n",
       "      <td>33.370998</td>\n",
       "      <td>1100.000000</td>\n",
       "      <td>829.000000</td>\n",
       "      <td>220.000000</td>\n",
       "      <td>2.363467</td>\n",
       "      <td>1.124054</td>\n",
       "    </tr>\n",
       "    <tr>\n",
       "      <th>25%</th>\n",
       "      <td>-118.195850</td>\n",
       "      <td>33.853750</td>\n",
       "      <td>6590.000000</td>\n",
       "      <td>3318.000000</td>\n",
       "      <td>305.500000</td>\n",
       "      <td>40.744595</td>\n",
       "      <td>22.411951</td>\n",
       "    </tr>\n",
       "    <tr>\n",
       "      <th>50%</th>\n",
       "      <td>-117.959099</td>\n",
       "      <td>33.976200</td>\n",
       "      <td>9147.000000</td>\n",
       "      <td>4937.000000</td>\n",
       "      <td>353.000000</td>\n",
       "      <td>108.007446</td>\n",
       "      <td>31.686805</td>\n",
       "    </tr>\n",
       "    <tr>\n",
       "      <th>75%</th>\n",
       "      <td>-117.658264</td>\n",
       "      <td>34.078701</td>\n",
       "      <td>12121.000000</td>\n",
       "      <td>7765.000000</td>\n",
       "      <td>406.500000</td>\n",
       "      <td>288.750214</td>\n",
       "      <td>41.651250</td>\n",
       "    </tr>\n",
       "    <tr>\n",
       "      <th>max</th>\n",
       "      <td>-116.953003</td>\n",
       "      <td>34.540001</td>\n",
       "      <td>18419.000000</td>\n",
       "      <td>13997.000000</td>\n",
       "      <td>881.000000</td>\n",
       "      <td>2258.416260</td>\n",
       "      <td>90.483835</td>\n",
       "    </tr>\n",
       "  </tbody>\n",
       "</table>\n",
       "</div>"
      ],
      "text/plain": [
       "              lon         lat         idx_x         idx_y        vs30  \\\n",
       "count  259.000000  259.000000    259.000000    259.000000  259.000000   \n",
       "mean  -117.906172   33.967717   9530.795367   5793.849421  365.169884   \n",
       "std      0.362966    0.173317   3629.258464   3187.801987   90.052838   \n",
       "min   -118.649712   33.370998   1100.000000    829.000000  220.000000   \n",
       "25%   -118.195850   33.853750   6590.000000   3318.000000  305.500000   \n",
       "50%   -117.959099   33.976200   9147.000000   4937.000000  353.000000   \n",
       "75%   -117.658264   34.078701  12121.000000   7765.000000  406.500000   \n",
       "max   -116.953003   34.540001  18419.000000  13997.000000  881.000000   \n",
       "\n",
       "         elevation        rhyp  \n",
       "count   259.000000  259.000000  \n",
       "mean    236.166750   34.434289  \n",
       "std     344.690541   18.370473  \n",
       "min       2.363467    1.124054  \n",
       "25%      40.744595   22.411951  \n",
       "50%     108.007446   31.686805  \n",
       "75%     288.750214   41.651250  \n",
       "max    2258.416260   90.483835  "
      ]
     },
     "execution_count": 16,
     "metadata": {},
     "output_type": "execute_result"
    }
   ],
   "source": [
    "sites.describe()"
   ]
  },
  {
   "cell_type": "code",
   "execution_count": 4,
   "metadata": {},
   "outputs": [
    {
     "data": {
      "application/vnd.jupyter.widget-view+json": {
       "model_id": "",
       "version_major": 2,
       "version_minor": 0
      },
      "text/plain": [
       "Map(center=[34, -117.9], controls=(ZoomControl(options=['position', 'zoom_in_text', 'zoom_in_title', 'zoom_out…"
      ]
     },
     "metadata": {},
     "output_type": "display_data"
    }
   ],
   "source": [
    "clon = -117.9\n",
    "clat = 34\n",
    "src_lon = -117.932587 \n",
    "src_lat = 33.918633\n",
    "m = Map(basemap=basemaps.Stamen.Terrain, center=(clat, clon), zoom=8.5,layout=Layout(width='960px', height='720px'))\n",
    "\n",
    "polygon = Polygon(\n",
    "    locations = domain,\n",
    "    color = 'blue',\n",
    "    width = 0.1,\n",
    "    fill_color = 'blue',\n",
    "    fill_opacity = 0.05\n",
    ")\n",
    "\n",
    "epic = Circle(\n",
    "    location = (src_lat, src_lon),\n",
    "    draggable = False,\n",
    "\n",
    "    #icon = AwesomeIcon(name='star', marker_color='red', icon_color='red')\n",
    ")\n",
    "\n",
    "popup = Popup(\n",
    "    location = (src_lat, src_lon),\n",
    "    child = HTML(value=f'({src_lon:.2f}, {src_lat:.2f})'),\n",
    "    close_buttion = False,\n",
    "    auto_close = False,\n",
    "    close_on_escape = False,\n",
    "    max_width=100, min_width=2\n",
    ")\n",
    "\n",
    "# statmarkers=[]\n",
    "# for idx, site in sites[0:50:10].iterrows():\n",
    "#     c = Marker(location=(site['lat'], site['lon']),\n",
    "#                title=f'Rhypo={site[\"rhypo\"]:.2f} km, Vs30={site[\"vs30\"]:.2f} m/s',\n",
    "#                draggable=False)\n",
    "#     statmarkers.append(c)\n",
    "# measure = MeasureControl(\n",
    "#     location=\n",
    "# )\n",
    "# m.add_layer(MarkerCluster(markers=statmarkers))\n",
    "\n",
    "image = ImageOverlay(\n",
    "    url = \"../cvm/test.png\",\n",
    "    bounds = ((33.3, -119.2),(33.8, -118.5))\n",
    ")\n",
    "m.add_layer(image)\n",
    "m.add_layer(epic)\n",
    "m.add_layer(popup)\n",
    "m.add_layer(polygon)\n",
    "m.add_control(ScaleControl(position='bottomleft'))\n",
    "display(m)\n",
    "# measure = MeasureControl(\n",
    "#     position='bottomleft',\n",
    "#     active_color = 'orange',\n",
    "#     primary_length_unit = 'kilometers'\n",
    "# )\n"
   ]
  },
  {
   "cell_type": "code",
   "execution_count": 36,
   "metadata": {},
   "outputs": [],
   "source": [
    "eql=pd.read_csv(\"aftershock_list_m4+.txt\", delimiter=\"_\", header=None, parse_dates=[[0]])\n",
    "eql.columns=[\"Date\", \"Mw\", \"Lat\", \"Lon\", \"Depth\"]\n",
    "#eql.set_index(\"id\", drop=True, inplace=True)\n",
    "eql[\"Mw\"]=eql[\"Mw\"].str.rstrip(\"Mw\").astype(np.float)\n",
    "eql[\"Lat\"]=eql[\"Lat\"].str.rstrip(\"S\").astype(np.float).map(lambda x: -x)\n",
    "eql[\"Lon\"]=eql[\"Lon\"].str.rstrip(\"W\").astype(np.float).map(lambda x: -x)\n",
    "eql[\"Depth\"]=eql[\"Depth\"].str.rstrip(\"KM\").astype(np.float)"
   ]
  },
  {
   "cell_type": "code",
   "execution_count": 37,
   "metadata": {},
   "outputs": [],
   "source": [
    "def makebasemap(clon=-70, clat=-35, inizoom=6, width=\"960px\", height=\"720px\"):\n",
    "    defaultLayout=Layout(width=width, height=height)\n",
    "    bmap = Map(basemap=basemaps.Stamen.Terrain, center=(clat, clon), zoom=inizoom, layout=defaultLayout)\n",
    "    measure = MeasureControl(position='bottomleft', active_color = 'orange',\n",
    "        primary_length_unit = 'kilometers')    \n",
    "    bmap.add_control(measure)\n",
    "    bmap.add_layer(polygon)\n",
    "    return bmap"
   ]
  },
  {
   "cell_type": "code",
   "execution_count": 38,
   "metadata": {},
   "outputs": [],
   "source": [
    "def plot_earthquakes(eqdf, bmap, htype=\"circle\", circle_color=\"red\", circrad=1.e4,\n",
    "                     lonkey=\"Longitude\", latkey=\"Latitude\"):\n",
    "    \n",
    "    \n",
    "    if htype == \"marker\" or htype == \"cluster\":\n",
    "        if htype == \"cluster\":\n",
    "            statmarkers=[]\n",
    "\n",
    "        for eqid in eqdf.index:\n",
    "            c = Marker(location=(eqdf.loc[eqid,latkey], eqdf.loc[eqid,lonkey]),\n",
    "                title=\"Mw=%3.1f (%s, %3.0f km)\" % (eql.loc[eqid,\"Mw\"], eql.loc[eqid,\"Date\"], eql.loc[eqid,\"Depth\"]),\n",
    "                draggable=False)\n",
    "            \n",
    "            if htype == \"cluster\":\n",
    "                statmarkers.append(c)\n",
    "            else:\n",
    "                bmap.add_layer(c)\n",
    "\n",
    "        if htype == \"cluster\":\n",
    "            mc=MarkerCluster(markers=statmarkers)\n",
    "            bmap.add_layer(mc)\n",
    "        \n",
    "    elif htype == \"circle\":\n",
    "        for eqid in eqdf.index:\n",
    "            c = Circle()\n",
    "            c.location = (eqdf.loc[eqid,latkey], eqdf.loc[eqid,lonkey])\n",
    "            c.radius = int((eqdf.loc[eqid,\"Mw\"] - 4)*circrad)\n",
    "            c.color = circle_color\n",
    "            c.fill_color = circle_color\n",
    "            c.fill_opacity = 0.1\n",
    "            \n",
    "            bmap.add_layer(c)"
   ]
  },
  {
   "cell_type": "code",
   "execution_count": 39,
   "metadata": {},
   "outputs": [
    {
     "data": {
      "application/vnd.jupyter.widget-view+json": {
       "model_id": "957720a8c3ff4eec91173f15f20fd4ee",
       "version_major": 2,
       "version_minor": 0
      },
      "text/plain": [
       "Map(center=[-35, -70], controls=(ZoomControl(options=['position', 'zoom_in_text', 'zoom_in_title', 'zoom_out_t…"
      ]
     },
     "metadata": {},
     "output_type": "display_data"
    }
   ],
   "source": [
    "bmap2=makebasemap()\n",
    "#mask=eql[\"Date\"] > \"2011-01-01\"\n",
    "mask=(eql[\"Date\"] > \"2011-01-01\") & (eql[\"Mw\"] > 6.8)\n",
    "plot_earthquakes(eql[mask], bmap2, htype=\"cluster\", latkey=\"Lat\", lonkey=\"Lon\")\n",
    "display(bmap2)"
   ]
  },
  {
   "cell_type": "code",
   "execution_count": 67,
   "metadata": {},
   "outputs": [
    {
     "data": {
      "text/html": [
       "<div>\n",
       "<style scoped>\n",
       "    .dataframe tbody tr th:only-of-type {\n",
       "        vertical-align: middle;\n",
       "    }\n",
       "\n",
       "    .dataframe tbody tr th {\n",
       "        vertical-align: top;\n",
       "    }\n",
       "\n",
       "    .dataframe thead th {\n",
       "        text-align: right;\n",
       "    }\n",
       "</style>\n",
       "<table border=\"1\" class=\"dataframe\">\n",
       "  <thead>\n",
       "    <tr style=\"text-align: right;\">\n",
       "      <th></th>\n",
       "      <th>Mw</th>\n",
       "      <th>Lat</th>\n",
       "      <th>Lon</th>\n",
       "      <th>Depth</th>\n",
       "    </tr>\n",
       "    <tr>\n",
       "      <th>id</th>\n",
       "      <th></th>\n",
       "      <th></th>\n",
       "      <th></th>\n",
       "      <th></th>\n",
       "    </tr>\n",
       "  </thead>\n",
       "  <tbody>\n",
       "    <tr>\n",
       "      <th>20100227</th>\n",
       "      <td>6.2</td>\n",
       "      <td>-34.32</td>\n",
       "      <td>71.22</td>\n",
       "      <td>46.0</td>\n",
       "    </tr>\n",
       "    <tr>\n",
       "      <th>20100227</th>\n",
       "      <td>8.8</td>\n",
       "      <td>-36.10</td>\n",
       "      <td>73.08</td>\n",
       "      <td>30.0</td>\n",
       "    </tr>\n",
       "  </tbody>\n",
       "</table>\n",
       "</div>"
      ],
      "text/plain": [
       "           Mw    Lat    Lon  Depth\n",
       "id                                \n",
       "20100227  6.2 -34.32  71.22   46.0\n",
       "20100227  8.8 -36.10  73.08   30.0"
      ]
     },
     "execution_count": 67,
     "metadata": {},
     "output_type": "execute_result"
    }
   ],
   "source": [
    "eql.loc[eqid,:]"
   ]
  },
  {
   "cell_type": "code",
   "execution_count": 99,
   "metadata": {},
   "outputs": [
    {
     "name": "stdout",
     "output_type": "stream",
     "text": [
      "20100227_6.2Mw_34.32S_71.22W_46KM.pkl 20170424_6.9Mw_33.09S_72.09W_24KM.pkl\n",
      "20100227_8.8Mw_36.10S_73.08W_30KM.pkl 20180615_4.1Mw_20.04S_69.05W_89KM.pkl\n",
      "20120325_6.8Mw_35.2S_72.22W_40KM.pkl  20190801_6.6Mw_34.28S_72.51W_13KM.pkl\n",
      "20140823_6.4Mw_32.74S_71.5W_40KM.pkl  domain_edges_v1.pkl\n"
     ]
    }
   ],
   "source": [
    "!ls *.pkl"
   ]
  },
  {
   "cell_type": "code",
   "execution_count": 106,
   "metadata": {},
   "outputs": [],
   "source": [
    "Marker?"
   ]
  },
  {
   "cell_type": "code",
   "execution_count": 41,
   "metadata": {},
   "outputs": [],
   "source": [
    "def stat_df_from_pickle(picklefile):\n",
    "    ds=pickle.load(open(picklefile, \"rb\"))\n",
    "    \n",
    "    lons=[]\n",
    "    lats=[]\n",
    "    names=[]\n",
    "\n",
    "    for st in ds.keys():\n",
    "        lats.append(ds[st][\"lat\"])\n",
    "        lons.append(ds[st][\"lon\"])\n",
    "        names.append(ds[st][\"name\"])\n",
    "        \n",
    "    statdf=pd.DataFrame({\"name\": names, \"Longitude\": lons, \"Latitude\": lats})\n",
    "    statdf.set_index(\"name\", inplace=True)\n",
    "    \n",
    "    return statdf"
   ]
  },
  {
   "cell_type": "code",
   "execution_count": 42,
   "metadata": {},
   "outputs": [],
   "source": [
    "def plot_event_stations(statdf, bmap, cluster=True, epi=(0,0), epiradius=10000, popup=False):\n",
    "\n",
    "    if cluster:\n",
    "        statmarkers=[]\n",
    "\n",
    "    for name in statdf.index:\n",
    "        c = Marker(location=(statdf.loc[name,\"Latitude\"], statdf.loc[name,\"Longitude\"]),\n",
    "            title=name, draggable=False)\n",
    "        c.name=name\n",
    "        c.popup=HTML(value=name)\n",
    "        \n",
    "        if cluster:\n",
    "            statmarkers.append(c)\n",
    "        else:\n",
    "            bmap.add_layer(c)\n",
    "            \n",
    "        if popup:\n",
    "            message1 = HTML()\n",
    "            message1.value = name\n",
    "\n",
    "            # Popup with a given location on the map:\n",
    "            popup = Popup(location=(statdf.loc[name,\"Latitude\"]+0.01, statdf.loc[name,\"Longitude\"]),\n",
    "                        child=message1, close_button=False, auto_close=False, close_on_escape_key=False,\n",
    "                         max_width=10, min_width=1)\n",
    "            bmap.add_layer(popup)\n",
    "\n",
    "    if cluster:\n",
    "        mc=MarkerCluster(markers=statmarkers)\n",
    "        bmap.add_layer(mc)\n",
    "        \n",
    "    print(epi)\n",
    "    cir=Circle(location=epi, radius=epiradius, color=\"red\", fill_color=\"red\", fill_opacity=0.1)\n",
    "    bmap.add_layer(cir)"
   ]
  },
  {
   "cell_type": "code",
   "execution_count": 43,
   "metadata": {},
   "outputs": [
    {
     "ename": "FileNotFoundError",
     "evalue": "[Errno 2] No such file or directory: 'maulesites_corr.pkl'",
     "output_type": "error",
     "traceback": [
      "\u001b[0;31m---------------------------------------------------------------------------\u001b[0m",
      "\u001b[0;31mFileNotFoundError\u001b[0m                         Traceback (most recent call last)",
      "\u001b[0;32m<ipython-input-43-d4bc6562cf64>\u001b[0m in \u001b[0;36m<module>\u001b[0;34m\u001b[0m\n\u001b[0;32m----> 1\u001b[0;31m \u001b[0mmaulesites\u001b[0m\u001b[0;34m=\u001b[0m\u001b[0mpd\u001b[0m\u001b[0;34m.\u001b[0m\u001b[0mread_pickle\u001b[0m\u001b[0;34m(\u001b[0m\u001b[0;34m\"maulesites_corr.pkl\"\u001b[0m\u001b[0;34m)\u001b[0m\u001b[0;34m\u001b[0m\u001b[0;34m\u001b[0m\u001b[0m\n\u001b[0m\u001b[1;32m      2\u001b[0m \u001b[0mmaulesites\u001b[0m\u001b[0;34m.\u001b[0m\u001b[0mhead\u001b[0m\u001b[0;34m(\u001b[0m\u001b[0;34m)\u001b[0m\u001b[0;34m\u001b[0m\u001b[0;34m\u001b[0m\u001b[0m\n",
      "\u001b[0;32m~/file_back/programs/andes/anaconda3/lib/python3.8/site-packages/pandas/io/pickle.py\u001b[0m in \u001b[0;36mread_pickle\u001b[0;34m(filepath_or_buffer, compression)\u001b[0m\n\u001b[1;32m    167\u001b[0m     \u001b[0;32mif\u001b[0m \u001b[0;32mnot\u001b[0m \u001b[0misinstance\u001b[0m\u001b[0;34m(\u001b[0m\u001b[0mfp_or_buf\u001b[0m\u001b[0;34m,\u001b[0m \u001b[0mstr\u001b[0m\u001b[0;34m)\u001b[0m \u001b[0;32mand\u001b[0m \u001b[0mcompression\u001b[0m \u001b[0;34m==\u001b[0m \u001b[0;34m\"infer\"\u001b[0m\u001b[0;34m:\u001b[0m\u001b[0;34m\u001b[0m\u001b[0;34m\u001b[0m\u001b[0m\n\u001b[1;32m    168\u001b[0m         \u001b[0mcompression\u001b[0m \u001b[0;34m=\u001b[0m \u001b[0;32mNone\u001b[0m\u001b[0;34m\u001b[0m\u001b[0;34m\u001b[0m\u001b[0m\n\u001b[0;32m--> 169\u001b[0;31m     \u001b[0mf\u001b[0m\u001b[0;34m,\u001b[0m \u001b[0mfh\u001b[0m \u001b[0;34m=\u001b[0m \u001b[0mget_handle\u001b[0m\u001b[0;34m(\u001b[0m\u001b[0mfp_or_buf\u001b[0m\u001b[0;34m,\u001b[0m \u001b[0;34m\"rb\"\u001b[0m\u001b[0;34m,\u001b[0m \u001b[0mcompression\u001b[0m\u001b[0;34m=\u001b[0m\u001b[0mcompression\u001b[0m\u001b[0;34m,\u001b[0m \u001b[0mis_text\u001b[0m\u001b[0;34m=\u001b[0m\u001b[0;32mFalse\u001b[0m\u001b[0;34m)\u001b[0m\u001b[0;34m\u001b[0m\u001b[0;34m\u001b[0m\u001b[0m\n\u001b[0m\u001b[1;32m    170\u001b[0m \u001b[0;34m\u001b[0m\u001b[0m\n\u001b[1;32m    171\u001b[0m     \u001b[0;31m# 1) try standard library Pickle\u001b[0m\u001b[0;34m\u001b[0m\u001b[0;34m\u001b[0m\u001b[0;34m\u001b[0m\u001b[0m\n",
      "\u001b[0;32m~/file_back/programs/andes/anaconda3/lib/python3.8/site-packages/pandas/io/common.py\u001b[0m in \u001b[0;36mget_handle\u001b[0;34m(path_or_buf, mode, encoding, compression, memory_map, is_text, errors)\u001b[0m\n\u001b[1;32m    497\u001b[0m         \u001b[0;32melse\u001b[0m\u001b[0;34m:\u001b[0m\u001b[0;34m\u001b[0m\u001b[0;34m\u001b[0m\u001b[0m\n\u001b[1;32m    498\u001b[0m             \u001b[0;31m# Binary mode\u001b[0m\u001b[0;34m\u001b[0m\u001b[0;34m\u001b[0m\u001b[0;34m\u001b[0m\u001b[0m\n\u001b[0;32m--> 499\u001b[0;31m             \u001b[0mf\u001b[0m \u001b[0;34m=\u001b[0m \u001b[0mopen\u001b[0m\u001b[0;34m(\u001b[0m\u001b[0mpath_or_buf\u001b[0m\u001b[0;34m,\u001b[0m \u001b[0mmode\u001b[0m\u001b[0;34m)\u001b[0m\u001b[0;34m\u001b[0m\u001b[0;34m\u001b[0m\u001b[0m\n\u001b[0m\u001b[1;32m    500\u001b[0m         \u001b[0mhandles\u001b[0m\u001b[0;34m.\u001b[0m\u001b[0mappend\u001b[0m\u001b[0;34m(\u001b[0m\u001b[0mf\u001b[0m\u001b[0;34m)\u001b[0m\u001b[0;34m\u001b[0m\u001b[0;34m\u001b[0m\u001b[0m\n\u001b[1;32m    501\u001b[0m \u001b[0;34m\u001b[0m\u001b[0m\n",
      "\u001b[0;31mFileNotFoundError\u001b[0m: [Errno 2] No such file or directory: 'maulesites_corr.pkl'"
     ]
    }
   ],
   "source": [
    "maulesites=pd.read_pickle(\"maulesites_corr.pkl\")\n",
    "maulesites.head()"
   ]
  },
  {
   "cell_type": "code",
   "execution_count": 257,
   "metadata": {},
   "outputs": [
    {
     "name": "stdout",
     "output_type": "stream",
     "text": [
      "-rw-rw-r--@ 1 daniel  staff    404603 Aug  6 17:59 20100227_6.2Mw_34.32S_71.22W_46KM.pkl\n",
      "-rw-r--r--@ 1 daniel  staff   9851094 Nov  2 21:57 20100227_8.8Mw_36.10S_73.08W_30KM.pkl\n",
      "-rw-rw-r--@ 1 daniel  staff   3605178 Aug  6 17:59 20120325_6.8Mw_35.2S_72.22W_40KM.pkl\n",
      "-rw-rw-r--@ 1 daniel  staff  30817914 Aug  6 17:59 20140823_6.4Mw_32.74S_71.5W_40KM.pkl\n",
      "-rw-rw-r--@ 1 daniel  staff  33694253 Aug  6 17:59 20170424_6.9Mw_33.09S_72.09W_24KM.pkl\n",
      "-rw-r--r--@ 1 daniel  staff  19726692 Dec  8 22:45 20170802_5.5Mw_33.2S_70.61W_99KM.pkl\n",
      "-rw-r--r--@ 1 daniel  staff   2322256 Nov  2 21:45 20180615_4.1Mw_20.04S_69.05W_89KM.pkl\n",
      "-rw-rw-r--@ 1 daniel  staff   7178592 Aug  6 17:59 20190801_6.6Mw_34.28S_72.51W_13KM.pkl\n"
     ]
    }
   ],
   "source": [
    "!ls -l 20*.pkl"
   ]
  },
  {
   "cell_type": "code",
   "execution_count": 40,
   "metadata": {},
   "outputs": [
    {
     "ename": "NameError",
     "evalue": "name 'stat_df_from_pickle' is not defined",
     "output_type": "error",
     "traceback": [
      "\u001b[0;31m---------------------------------------------------------------------------\u001b[0m",
      "\u001b[0;31mNameError\u001b[0m                                 Traceback (most recent call last)",
      "\u001b[0;32m<ipython-input-40-6715ac704867>\u001b[0m in \u001b[0;36m<module>\u001b[0;34m\u001b[0m\n\u001b[1;32m      3\u001b[0m \u001b[0;31m#pfile=\"20100227_8.8Mw_36.10S_73.08W_30KM.pkl\"\u001b[0m\u001b[0;34m\u001b[0m\u001b[0;34m\u001b[0m\u001b[0;34m\u001b[0m\u001b[0m\n\u001b[1;32m      4\u001b[0m \u001b[0mpfile\u001b[0m\u001b[0;34m=\u001b[0m\u001b[0;34m\"20170424_6.9Mw_33.09S_72.09W_24KM.pkl\"\u001b[0m \u001b[0;31m#offshore valparaiso\u001b[0m\u001b[0;34m\u001b[0m\u001b[0;34m\u001b[0m\u001b[0m\n\u001b[0;32m----> 5\u001b[0;31m \u001b[0mstatdf\u001b[0m\u001b[0;34m=\u001b[0m\u001b[0mstat_df_from_pickle\u001b[0m\u001b[0;34m(\u001b[0m\u001b[0mpfile\u001b[0m\u001b[0;34m)\u001b[0m\u001b[0;34m\u001b[0m\u001b[0;34m\u001b[0m\u001b[0m\n\u001b[0m\u001b[1;32m      6\u001b[0m \u001b[0mepiloc\u001b[0m\u001b[0;34m=\u001b[0m\u001b[0;34m-\u001b[0m\u001b[0mfloat\u001b[0m\u001b[0;34m(\u001b[0m\u001b[0mpfile\u001b[0m\u001b[0;34m.\u001b[0m\u001b[0msplit\u001b[0m\u001b[0;34m(\u001b[0m\u001b[0;34m\"_\"\u001b[0m\u001b[0;34m)\u001b[0m\u001b[0;34m[\u001b[0m\u001b[0;36m2\u001b[0m\u001b[0;34m]\u001b[0m\u001b[0;34m.\u001b[0m\u001b[0msplit\u001b[0m\u001b[0;34m(\u001b[0m\u001b[0;34m\"S\"\u001b[0m\u001b[0;34m)\u001b[0m\u001b[0;34m[\u001b[0m\u001b[0;36m0\u001b[0m\u001b[0;34m]\u001b[0m\u001b[0;34m)\u001b[0m\u001b[0;34m,\u001b[0m \u001b[0;34m-\u001b[0m\u001b[0mfloat\u001b[0m\u001b[0;34m(\u001b[0m\u001b[0mpfile\u001b[0m\u001b[0;34m.\u001b[0m\u001b[0msplit\u001b[0m\u001b[0;34m(\u001b[0m\u001b[0;34m\"_\"\u001b[0m\u001b[0;34m)\u001b[0m\u001b[0;34m[\u001b[0m\u001b[0;36m3\u001b[0m\u001b[0;34m]\u001b[0m\u001b[0;34m.\u001b[0m\u001b[0msplit\u001b[0m\u001b[0;34m(\u001b[0m\u001b[0;34m\"W\"\u001b[0m\u001b[0;34m)\u001b[0m\u001b[0;34m[\u001b[0m\u001b[0;36m0\u001b[0m\u001b[0;34m]\u001b[0m\u001b[0;34m)\u001b[0m\u001b[0;34m\u001b[0m\u001b[0;34m\u001b[0m\u001b[0m\n\u001b[1;32m      7\u001b[0m \u001b[0mplot_event_stations\u001b[0m\u001b[0;34m(\u001b[0m\u001b[0mstatdf\u001b[0m\u001b[0;34m,\u001b[0m \u001b[0mbmap\u001b[0m\u001b[0;34m,\u001b[0m\u001b[0mepi\u001b[0m\u001b[0;34m=\u001b[0m\u001b[0mepiloc\u001b[0m\u001b[0;34m,\u001b[0m \u001b[0mepiradius\u001b[0m\u001b[0;34m=\u001b[0m\u001b[0;36m1000\u001b[0m\u001b[0;34m,\u001b[0m \u001b[0mcluster\u001b[0m\u001b[0;34m=\u001b[0m\u001b[0;32mFalse\u001b[0m\u001b[0;34m)\u001b[0m\u001b[0;34m\u001b[0m\u001b[0;34m\u001b[0m\u001b[0m\n",
      "\u001b[0;31mNameError\u001b[0m: name 'stat_df_from_pickle' is not defined"
     ]
    }
   ],
   "source": [
    "bmap=makebasemap(clat=-33.4, clon=-70.5, inizoom=10, height=\"480px\")\n",
    "#pfile=\"20170802_5.5Mw_33.2S_70.61W_99KM.pkl\"\n",
    "#pfile=\"20100227_8.8Mw_36.10S_73.08W_30KM.pkl\"\n",
    "pfile=\"20170424_6.9Mw_33.09S_72.09W_24KM.pkl\" #offshore valparaiso\n",
    "statdf=stat_df_from_pickle(pfile)\n",
    "epiloc=-float(pfile.split(\"_\")[2].split(\"S\")[0]), -float(pfile.split(\"_\")[3].split(\"W\")[0])\n",
    "plot_event_stations(statdf, bmap,epi=epiloc, epiradius=1000, cluster=False)\n",
    "display(bmap)"
   ]
  },
  {
   "cell_type": "code",
   "execution_count": 321,
   "metadata": {},
   "outputs": [
    {
     "data": {
      "text/plain": [
       "''"
      ]
     },
     "execution_count": 321,
     "metadata": {},
     "output_type": "execute_result"
    }
   ],
   "source": [
    "#ma=Marker()\n",
    "ma.name"
   ]
  },
  {
   "cell_type": "code",
   "execution_count": 222,
   "metadata": {},
   "outputs": [],
   "source": [
    "from sklearn.metrics.pairwise import haversine_distances\n",
    "from math import radians\n",
    "\"\"\"\n",
    "bsas = [-34.83333, -58.5166646]\n",
    "paris = [49.0083899664, 2.53844117956]\n",
    "bsas_in_radians = [radians(_) for _ in bsas]\n",
    "paris_in_radians = [radians(_) for _ in paris]\n",
    "print(bsas_in_radians)\n",
    "print(paris_in_radians)\n",
    "result = haversine_distances([bsas_in_radians, paris_in_radians])\n",
    "result * 6371000/1000  # multiply by Earth radius to get kilometers\n",
    "\"\"\";"
   ]
  },
  {
   "cell_type": "code",
   "execution_count": 348,
   "metadata": {},
   "outputs": [
    {
     "data": {
      "text/plain": [
       "[['R18M', 'CRMA', 2152.012050782631],\n",
       " ['R05M', 'LACH', 867.4850197528216],\n",
       " ['R02M', 'F', 962.3141308262449],\n",
       " ['MT07', 'ROC1', 37.31250874947311],\n",
       " ['V01A', 'VAL', 1770.8995364335185]]"
      ]
     },
     "execution_count": 348,
     "metadata": {},
     "output_type": "execute_result"
    }
   ],
   "source": [
    "def find_matching(df1, df2, threshold=1000.):\n",
    "    earth_radius=6371000\n",
    "    nstat1=len(df1)\n",
    "    nstat2=len(df2)\n",
    "    \n",
    "    mpairs=[]\n",
    "    \n",
    "    for n in df1.index:\n",
    "        for m in df2.index:\n",
    "            stat1=[radians(df1.loc[n,\"Latitude\"]),radians(df1.loc[n,\"Longitude\"])]\n",
    "            stat2=[radians(df2.loc[m,\"Latitude\"]),radians(df2.loc[m,\"Longitude\"])]\n",
    "            distances=haversine_distances([stat1,stat2]) * earth_radius \n",
    "            if distances[0][1] < threshold:\n",
    "                mpairs.append([n, m, distances[0][1]])\n",
    "                \n",
    "    return(mpairs)\n",
    "            \n",
    "find_matching(statdf, maulesites, threshold=3000.)"
   ]
  },
  {
   "cell_type": "code",
   "execution_count": 381,
   "metadata": {},
   "outputs": [
    {
     "data": {
      "text/plain": [
       "Longitude   -70.6597\n",
       "Latitude    -33.4728\n",
       "Name: R02M, dtype: float64"
      ]
     },
     "execution_count": 381,
     "metadata": {},
     "output_type": "execute_result"
    }
   ],
   "source": [
    "#maulesites.loc['LACH',:]\n",
    "statdf.loc['R02M',:]"
   ]
  },
  {
   "cell_type": "code",
   "execution_count": 345,
   "metadata": {},
   "outputs": [
    {
     "name": "stdout",
     "output_type": "stream",
     "text": [
      "(0, 0)\n"
     ]
    },
    {
     "data": {
      "application/vnd.jupyter.widget-view+json": {
       "model_id": "58b361b42f1a4ce8a92219156528540f",
       "version_major": 2,
       "version_minor": 0
      },
      "text/plain": [
       "Map(center=[-33.4, -70.5], controls=(ZoomControl(options=['position', 'zoom_in_text', 'zoom_in_title', 'zoom_o…"
      ]
     },
     "metadata": {},
     "output_type": "display_data"
    }
   ],
   "source": [
    "bmap2=makebasemap(clat=-33.4, clon=-70.5, inizoom=10, height=\"480px\")\n",
    "plot_event_stations(maulesites, bmap2, cluster=False)\n",
    "display(bmap2)"
   ]
  },
  {
   "cell_type": "code",
   "execution_count": 179,
   "metadata": {},
   "outputs": [
    {
     "data": {
      "text/plain": [
       "14"
      ]
     },
     "execution_count": 179,
     "metadata": {},
     "output_type": "execute_result"
    }
   ],
   "source": [
    "len(statdf)\n",
    "#len(maulesites.join(statdf, lsuffix=\"l\", rsuffix=\"r\"))"
   ]
  },
  {
   "cell_type": "code",
   "execution_count": 109,
   "metadata": {},
   "outputs": [],
   "source": [
    "c?"
   ]
  },
  {
   "cell_type": "code",
   "execution_count": 115,
   "metadata": {},
   "outputs": [],
   "source": [
    "ds=pickle.load(open(\"20100227_8.8Mw_36.10S_73.08W_30KM.pkl\", \"rb\"))\n",
    "maulestations=set([ds[st][\"name\"] for st in ds.keys()])\n",
    "\n",
    "ds=pickle.load(open(\"20190801_6.6Mw_34.28S_72.51W_13KM.pkl\", \"rb\"))\n",
    "stat2019=set([ds[st][\"name\"] for st in ds.keys()])"
   ]
  },
  {
   "cell_type": "code",
   "execution_count": 116,
   "metadata": {},
   "outputs": [
    {
     "data": {
      "text/plain": [
       "{'ANGOL',\n",
       " 'CONCEPCION CENTRO',\n",
       " 'CONSTITUCION',\n",
       " 'CURICO',\n",
       " 'HUALANE',\n",
       " 'LLOLLEO',\n",
       " 'MATANZAS',\n",
       " 'SANTIAGO CENTRO',\n",
       " 'SANTIAGO LA FLORIDA',\n",
       " 'SANTIAGO MAIPU',\n",
       " 'SANTIAGO PENALOLEN',\n",
       " 'SANTIAGO PUENTE ALTO',\n",
       " 'TALCA',\n",
       " 'VALPARAISO ALMENDRAL',\n",
       " 'VINA DEL MAR CENTRO',\n",
       " 'VINA DEL MAR EL SALTO'}"
      ]
     },
     "execution_count": 116,
     "metadata": {},
     "output_type": "execute_result"
    }
   ],
   "source": [
    "maulestations"
   ]
  },
  {
   "cell_type": "code",
   "execution_count": 117,
   "metadata": {},
   "outputs": [
    {
     "data": {
      "text/plain": [
       "{'BO01',\n",
       " 'BO02',\n",
       " 'BO03',\n",
       " 'LMEL',\n",
       " 'ML02',\n",
       " 'MT01',\n",
       " 'MT05',\n",
       " 'MT09',\n",
       " 'MT10',\n",
       " 'MT14',\n",
       " 'MT15',\n",
       " 'MT18',\n",
       " 'VA03',\n",
       " 'VA05'}"
      ]
     },
     "execution_count": 117,
     "metadata": {},
     "output_type": "execute_result"
    }
   ],
   "source": [
    "stat2019"
   ]
  },
  {
   "cell_type": "code",
   "execution_count": 378,
   "metadata": {},
   "outputs": [
    {
     "data": {
      "text/html": [
       "<div>\n",
       "<style scoped>\n",
       "    .dataframe tbody tr th:only-of-type {\n",
       "        vertical-align: middle;\n",
       "    }\n",
       "\n",
       "    .dataframe tbody tr th {\n",
       "        vertical-align: top;\n",
       "    }\n",
       "\n",
       "    .dataframe thead th {\n",
       "        text-align: right;\n",
       "    }\n",
       "</style>\n",
       "<table border=\"1\" class=\"dataframe\">\n",
       "  <thead>\n",
       "    <tr style=\"text-align: right;\">\n",
       "      <th></th>\n",
       "      <th>Date</th>\n",
       "      <th>Mw</th>\n",
       "      <th>Lat</th>\n",
       "      <th>Lon</th>\n",
       "      <th>Depth</th>\n",
       "    </tr>\n",
       "  </thead>\n",
       "  <tbody>\n",
       "    <tr>\n",
       "      <th>69</th>\n",
       "      <td>2010-02-27</td>\n",
       "      <td>6.2</td>\n",
       "      <td>-34.32</td>\n",
       "      <td>-71.22</td>\n",
       "      <td>46.0</td>\n",
       "    </tr>\n",
       "    <tr>\n",
       "      <th>70</th>\n",
       "      <td>2010-02-27</td>\n",
       "      <td>8.8</td>\n",
       "      <td>-36.10</td>\n",
       "      <td>-73.08</td>\n",
       "      <td>30.0</td>\n",
       "    </tr>\n",
       "    <tr>\n",
       "      <th>71</th>\n",
       "      <td>2010-02-28</td>\n",
       "      <td>6.2</td>\n",
       "      <td>-34.90</td>\n",
       "      <td>-71.62</td>\n",
       "      <td>46.0</td>\n",
       "    </tr>\n",
       "  </tbody>\n",
       "</table>\n",
       "</div>"
      ],
      "text/plain": [
       "         Date   Mw    Lat    Lon  Depth\n",
       "69 2010-02-27  6.2 -34.32 -71.22   46.0\n",
       "70 2010-02-27  8.8 -36.10 -73.08   30.0\n",
       "71 2010-02-28  6.2 -34.90 -71.62   46.0"
      ]
     },
     "execution_count": 378,
     "metadata": {},
     "output_type": "execute_result"
    }
   ],
   "source": [
    "eql[(eql[\"Date\"] > \"2010/01/01\") & (eql[\"Date\"] < \"2010/12/31\")]"
   ]
  },
  {
   "cell_type": "code",
   "execution_count": 396,
   "metadata": {},
   "outputs": [],
   "source": [
    "statdf.to_pickle(\"../sdc_55/stations.pkl\")\n",
    "pickle.dump(epiloc, open(\"../sdc_55/hypo.pkl\", \"wb\"))"
   ]
  },
  {
   "cell_type": "code",
   "execution_count": 405,
   "metadata": {},
   "outputs": [],
   "source": [
    "#statdf.to_pickle(\"../valparaiso_69/stations.pkl\")\n",
    "#pickle.dump(epiloc, open(\"../valparaiso_69/hypo.pkl\", \"wb\"))"
   ]
  },
  {
   "cell_type": "code",
   "execution_count": null,
   "metadata": {},
   "outputs": [],
   "source": []
  }
 ],
 "metadata": {
  "kernelspec": {
   "display_name": "Python 3",
   "language": "python",
   "name": "python3"
  },
  "language_info": {
   "codemirror_mode": {
    "name": "ipython",
    "version": 3
   },
   "file_extension": ".py",
   "mimetype": "text/x-python",
   "name": "python",
   "nbconvert_exporter": "python",
   "pygments_lexer": "ipython3",
   "version": "3.8.3"
  }
 },
 "nbformat": 4,
 "nbformat_minor": 4
}
