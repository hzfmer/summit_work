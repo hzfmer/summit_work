{
 "cells": [
  {
   "cell_type": "code",
   "execution_count": 79,
   "metadata": {},
   "outputs": [],
   "source": [
    "import numpy as np\n",
    "import pandas as pd\n",
    "import matplotlib.pyplot as plt\n",
    "import mysql.connector\n",
    "import csv\n",
    "import subprocess"
   ]
  },
  {
   "cell_type": "code",
   "execution_count": 3,
   "metadata": {},
   "outputs": [],
   "source": [
    "def distance(lon1, lat1, lon2=-117.932587, lat2=33.918633):\n",
    "    lat1, lon1, lat2, lon2 = np.radians((lat1, lon1, lat2, lon2))\n",
    "    dlon = lon2 - lon1\n",
    "    dlat = lat2 - lat1\n",
    "    d = 0.5 - np.cos(dlat) / 2 + np.cos(lat1) * np.cos(lat2)  * (1 - np.cos(dlon)) / 2\n",
    "    return 12742 * np.arcsin(np.sqrt(d))"
   ]
  },
  {
   "cell_type": "code",
   "execution_count": 80,
   "metadata": {},
   "outputs": [],
   "source": [
    "def call_sub(cmd, shell=False):\n",
    "    p = subprocess.run(cmd, shell=shell, capture_output=True)\n",
    "    if p.stderr:\n",
    "        print(\"Error\\n\", p)\n",
    "    return p"
   ]
  },
  {
   "cell_type": "code",
   "execution_count": null,
   "metadata": {},
   "outputs": [],
   "source": [
    "STUDY_ID = 7  # Study 15.12, with high-frequency statistical implementation"
   ]
  },
  {
   "cell_type": "code",
   "execution_count": 65,
   "metadata": {},
   "outputs": [],
   "source": [
    "\n",
    "\n",
    "# Start a connection\n",
    "conn = mysql.connector.connect(\n",
    "    host=\"moment.usc.edu\",\n",
    "    user=\"cybershk_ro\",\n",
    "    password=\"CyberShake2007\",\n",
    "    database=\"CyberShake\",\n",
    "    use_unicode=True,\n",
    ")\n",
    "\n",
    "# Query site table\n",
    "cmd = (\n",
    "    f'select S.CS_Short_Name, S.CS_Site_Name, S.CS_Site_Lat, S.CS_Site_Lon '\n",
    "    f'from CyberShake_Sites S, CyberShake_Runs R '\n",
    "    f'where R.Study_ID={STUDY_ID} '\n",
    "    f'and R.Site_ID=S.CS_Site_ID;'\n",
    ")\n",
    "all_sites = pd.read_sql(cmd, conn)\n",
    "all_sites.columns = [\"name\", \"deccription\", \"lat\", \"lon\"]\n",
    "\n",
    "cursor = conn.cursor()"
   ]
  },
  {
   "cell_type": "code",
   "execution_count": 76,
   "metadata": {},
   "outputs": [],
   "source": [
    "def select_by_dist(sites, lon=0, lat=0, site_name=\"\", thresh=10):\n",
    "    \"\"\"Select sites within 10 km to (lon, lat)\"\"\"\n",
    "    if site_name:\n",
    "        site = sites[sites['name'] == site_name]\n",
    "        lon, lat = site.lon.item(), site.lat.item()\n",
    "    sites['dist'] = sites.apply(lambda row: distance(row.lon, row.lat, lon, lat), axis=1)\n",
    "    sites.sort_values('dist', inplace=True)\n",
    "    return sites[sites['dist'] < thresh]"
   ]
  },
  {
   "cell_type": "code",
   "execution_count": 66,
   "metadata": {},
   "outputs": [],
   "source": [
    "def get_run_id(site_name):\n",
    "    cmd = (\n",
    "        f'select R.Run_ID '\n",
    "        f'from CyberShake_Runs R, CyberShake_Sites S '\n",
    "        f'where R.Site_ID=S.CS_Site_ID '\n",
    "        f'and R.Study_ID=7 '\n",
    "        f'and S.CS_Short_Name={repr(site_name)} '\n",
    "    )\n",
    "    run_id = pd.read_sql(cmd, conn)\n",
    "    return run_id.iloc[0].item()"
   ]
  },
  {
   "cell_type": "code",
   "execution_count": null,
   "metadata": {},
   "outputs": [],
   "source": [
    "def run(lon, lat, thresh=10):\n",
    "    sites = select_by_dist(all_sites, lon, lat, thresh=thresh)\n",
    "    for site_name in sites['name']:\n",
    "        run_id = get_run_id(site_name)"
   ]
  },
  {
   "cell_type": "code",
   "execution_count": 77,
   "metadata": {},
   "outputs": [
    {
     "name": "stdout",
     "output_type": "stream",
     "text": [
      "    name                        deccription        lat        lon      dist\n",
      "1   LADT               Los Angeles Downtown  34.052040 -118.25713  0.000000\n",
      "55   P14                                p14  34.061253 -118.27574  1.997170\n",
      "73    P9                                 p9  34.082110 -118.22514  4.456756\n",
      "98   USC  University of Southern California  34.019200 -118.28600  4.517904\n",
      "51   P10                                p10  34.056297 -118.20656  4.682795\n"
     ]
    }
   ],
   "source": [
    "lon = -118\n",
    "lat = 34\n",
    "\n",
    "sites = select_by_dist(all_sites, lon, lat, site_name=\"LADT\", thresh=20)\n",
    "print(sites.head())"
   ]
  },
  {
   "cell_type": "code",
   "execution_count": null,
   "metadata": {},
   "outputs": [],
   "source": [
    "cmd = [\n",
    "    f'./disagg_plot_wrapper.sh',\n",
    "    f'--run-id {run_id}',\n",
    "    f'--component RotD50',\n",
    "    f'--period {period}',\n",
    "    f'--probs 1e-4 --erf-file MeanUCERF.xml --type png,txt',\n",
    "]"
   ]
  }
 ],
 "metadata": {
  "kernelspec": {
   "display_name": "Python 3",
   "language": "python",
   "name": "python3"
  },
  "language_info": {
   "codemirror_mode": {
    "name": "ipython",
    "version": 3
   },
   "file_extension": ".py",
   "mimetype": "text/x-python",
   "name": "python",
   "nbconvert_exporter": "python",
   "pygments_lexer": "ipython3",
   "version": "3.8.5"
  }
 },
 "nbformat": 4,
 "nbformat_minor": 4
}
